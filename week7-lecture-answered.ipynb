{
 "cells": [
  {
   "cell_type": "code",
   "execution_count": 1,
   "id": "e091bc43-1184-4160-a034-09477548d815",
   "metadata": {},
   "outputs": [
    {
     "name": "stdout",
     "output_type": "stream",
     "text": [
      "Total examples: 3953\n",
      "Labels: ['comp.graphics', 'rec.sport.baseball', 'rec.sport.hockey', 'sci.space']\n"
     ]
    }
   ],
   "source": [
    "# ── Load a built-in text dataset ──\n",
    "from sklearn.datasets import fetch_20newsgroups\n",
    "\n",
    "# pick four categories (you can choose any you like)\n",
    "cats = ['rec.sport.baseball', 'rec.sport.hockey', \n",
    "        'comp.graphics',    'sci.space']\n",
    "\n",
    "data = fetch_20newsgroups(subset='all',\n",
    "                          categories=cats,\n",
    "                          remove=('headers','footers','quotes'))\n",
    "\n",
    "tweets, labels = data.data, data.target\n",
    "label_names = data.target_names\n",
    "\n",
    "print(\"Total examples:\", len(tweets))\n",
    "print(\"Labels:\", label_names)"
   ]
  },
  {
   "cell_type": "code",
   "execution_count": 2,
   "id": "70545968-30fa-4942-819b-b4e75508f2e3",
   "metadata": {},
   "outputs": [
    {
     "name": "stdout",
     "output_type": "stream",
     "text": [
      "Train size: 3162, Test size: 791\n"
     ]
    }
   ],
   "source": [
    "# ── split into train/test ──\n",
    "from sklearn.model_selection import train_test_split\n",
    "\n",
    "tweets_train, tweets_test, y_train, y_test = train_test_split(\n",
    "    tweets, labels, test_size=0.2, random_state=42\n",
    ")\n",
    "\n",
    "print(f\"Train size: {len(tweets_train)}, Test size: {len(tweets_test)}\")"
   ]
  },
  {
   "cell_type": "code",
   "execution_count": 3,
   "id": "92395e98-bd35-4734-92e1-fae627bd989f",
   "metadata": {},
   "outputs": [
    {
     "name": "stdout",
     "output_type": "stream",
     "text": [
      "Vocabulary size: 30693\n"
     ]
    }
   ],
   "source": [
    "# ── count‐vectorize the text ──\n",
    "from sklearn.feature_extraction.text import CountVectorizer\n",
    "\n",
    "vectorizer = CountVectorizer(stop_words='english')   # stop_words to drop common words\n",
    "X_train = vectorizer.fit_transform(tweets_train)\n",
    "X_test  = vectorizer.transform(tweets_test)\n",
    "\n",
    "print(\"Vocabulary size:\", len(vectorizer.vocabulary_))"
   ]
  },
  {
   "cell_type": "code",
   "execution_count": 4,
   "id": "2111f92d-9d55-4a79-9ecd-6f2ddaa5eb65",
   "metadata": {},
   "outputs": [],
   "source": [
    "# ── train a MultinomialNB classifier ──\n",
    "from sklearn.naive_bayes import MultinomialNB\n",
    "\n",
    "clf_nb = MultinomialNB()\n",
    "clf_nb.fit(X_train, y_train)\n",
    "y_pred_nb = clf_nb.predict(X_test)"
   ]
  },
  {
   "cell_type": "code",
   "execution_count": 5,
   "id": "383c613f-2a2f-477b-95b1-e8b0277a6a3a",
   "metadata": {},
   "outputs": [
    {
     "name": "stdout",
     "output_type": "stream",
     "text": [
      "Predictions: [0 0 3 0 0 0 3 1 3 2 1 2 2 3 0 1 3 0 2 1 3 2 1 0 1 2 3 1 1 0 3 0 1 0 0 1 2\n",
      " 0 0 0 1 0 1 1 0 3 3 2 3 0 0 1 0 0 3 3 0 0 3 1 2 3 3 0 3 1 1 1 3 1 0 1 0 3\n",
      " 3 0 1 2 2 2 0 3 2 2 1 3 3 0 1 2 3 2 0 1 3 1 0 1 0 3 1 2 2 2 0 3 0 3 1 1 2\n",
      " 3 2 2 1 0 0 1 2 1 1 1 0 1 2 1 1 1 1 0 3 1 3 0 2 3 2 1 3 0 0 2 0 0 3 1 3 0\n",
      " 2 3 1 1 2 3 0 3 0 2 1 1 3 2 2 1 2 3 1 2 2 1 2 1 2 2 1 3 3 2 0 2 2 3 2 2 0\n",
      " 0 0 1 2 2 2 2 3 1 0 0 1 3 1 0 1 3 0 1 1 3 2 0 0 2 3 2 0 2 2 0 3 2 1 3 3 1\n",
      " 0 2 2 2 0 2 2 3 2 2 1 3 1 3 1 1 3 3 2 1 2 2 0 2 1 2 2 1 1 3 2 0 1 0 3 3 1\n",
      " 1 3 2 0 3 2 0 1 3 2 3 2 2 1 3 1 0 2 1 1 3 0 0 1 2 1 2 0 0 1 3 3 1 2 1 1 1\n",
      " 3 3 2 1 3 0 2 0 0 2 3 0 1 0 0 1 1 2 0 3 2 0 1 3 2 1 0 1 3 2 0 0 0 2 3 1 3\n",
      " 1 2 0 1 0 1 0 1 2 0 1 0 3 3 1 0 2 0 0 2 2 0 1 1 2 3 1 3 1 2 0 0 0 1 2 1 3\n",
      " 0 3 1 2 1 1 1 2 1 1 1 3 2 2 1 3 0 3 2 0 2 3 2 2 0 0 1 2 2 3 1 3 3 3 2 3 0\n",
      " 0 3 2 0 3 1 3 1 3 3 3 1 0 2 1 3 1 0 1 0 3 2 3 3 1 3 2 3 1 3 2 0 1 3 0 3 2\n",
      " 0 1 3 0 1 3 2 0 0 3 2 0 3 3 0 3 3 0 2 3 3 3 0 1 1 1 1 0 2 2 1 1 0 3 3 0 2\n",
      " 0 2 2 1 2 1 2 0 0 2 0 3 0 2 2 3 1 1 0 3 2 3 2 3 2 2 3 2 3 2 1 1 2 0 3 2 3\n",
      " 3 0 3 3 0 0 0 2 1 1 1 2 1 2 2 0 2 1 0 1 2 1 0 1 2 3 2 0 1 2 0 2 0 0 1 0 1\n",
      " 0 3 0 2 1 0 1 2 1 1 2 0 0 0 1 2 0 2 1 2 2 2 3 0 3 0 0 2 0 1 1 3 3 2 2 3 0\n",
      " 2 1 2 3 2 0 0 0 2 1 1 2 0 1 3 0 0 3 2 0 3 2 1 2 3 2 1 2 0 3 2 1 3 0 0 3 0\n",
      " 0 2 1 3 1 1 0 3 1 1 3 2 0 3 0 1 2 0 2 3 1 2 2 0 2 1 1 1 2 1 1 0 3 2 1 3 2\n",
      " 2 0 1 1 2 0 2 1 1 2 2 2 3 1 0 3 1 3 3 1 2 2 1 2 2 1 0 3 1 1 2 1 1 1 3 3 3\n",
      " 1 3 0 1 1 3 3 3 0 0 2 2 3 2 1 2 3 1 2 1 3 3 0 1 1 1 3 1 1 2 0 3 1 0 0 0 2\n",
      " 0 1 3 3 2 3 1 0 2 0 3 0 1 0 3 1 1 0 2 1 2 2 0 0 3 3 1 1 1 2 3 0 3 2 0 3 1\n",
      " 3 1 1 3 2 2 0 1 1 2 3 0 1 1]\n",
      "\n",
      "Classification Report:\n",
      "               precision    recall  f1-score   support\n",
      "\n",
      "           0       0.87      0.89      0.88       188\n",
      "           1       0.77      0.91      0.84       185\n",
      "           2       0.95      0.86      0.91       222\n",
      "           3       0.94      0.88      0.91       196\n",
      "\n",
      "    accuracy                           0.88       791\n",
      "   macro avg       0.89      0.88      0.88       791\n",
      "weighted avg       0.89      0.88      0.88       791\n",
      "\n"
     ]
    }
   ],
   "source": [
    "# ── evaluate with a classification report ──\n",
    "from sklearn.metrics import classification_report\n",
    "\n",
    "print(\"Predictions:\", y_pred_nb)\n",
    "print(\"\\nClassification Report:\\n\", classification_report(y_test, y_pred_nb))"
   ]
  },
  {
   "cell_type": "code",
   "execution_count": null,
   "id": "c35bc34f-ddf8-4aca-8287-badb9d9b918e",
   "metadata": {},
   "outputs": [],
   "source": []
  },
  {
   "cell_type": "code",
   "execution_count": null,
   "id": "28f5f2f1-2b30-489b-8e0a-17c4eaceebb1",
   "metadata": {},
   "outputs": [],
   "source": []
  },
  {
   "cell_type": "code",
   "execution_count": null,
   "id": "ba2c4e19-81ed-40ed-8233-05ea36a21332",
   "metadata": {},
   "outputs": [],
   "source": []
  },
  {
   "cell_type": "code",
   "execution_count": 7,
   "id": "056c498b-01ed-49cc-8ca9-f19e10be7af6",
   "metadata": {},
   "outputs": [
    {
     "name": "stdout",
     "output_type": "stream",
     "text": [
      "\n",
      "Logistic Regression Report:\n",
      "               precision    recall  f1-score   support\n",
      "\n",
      "           0       0.90      0.89      0.89       188\n",
      "           1       0.86      0.89      0.88       185\n",
      "           2       0.96      0.87      0.91       222\n",
      "           3       0.85      0.92      0.88       196\n",
      "\n",
      "    accuracy                           0.89       791\n",
      "   macro avg       0.89      0.89      0.89       791\n",
      "weighted avg       0.89      0.89      0.89       791\n",
      "\n"
     ]
    }
   ],
   "source": [
    "# ── New: train LogisticRegression with a TF-IDF vectorizer ──\n",
    "from sklearn.feature_extraction.text import TfidfVectorizer\n",
    "from sklearn.linear_model import LogisticRegression\n",
    "\n",
    "tfidf = TfidfVectorizer(stop_words='english')\n",
    "X_train_tfidf = tfidf.fit_transform(tweets_train)\n",
    "X_test_tfidf  = tfidf.transform(tweets_test)\n",
    "\n",
    "clf_lr = LogisticRegression()\n",
    "clf_lr.fit(X_train_tfidf, y_train)\n",
    "y_pred_lr = clf_lr.predict(X_test_tfidf)\n",
    "\n",
    "print(\"\\nLogistic Regression Report:\\n\", classification_report(y_test, y_pred_lr))"
   ]
  },
  {
   "cell_type": "code",
   "execution_count": null,
   "id": "5be6a15a-af5e-4724-8160-105649fda7ff",
   "metadata": {},
   "outputs": [],
   "source": []
  }
 ],
 "metadata": {
  "kernelspec": {
   "display_name": "Python 3 (ipykernel)",
   "language": "python",
   "name": "python3"
  },
  "language_info": {
   "codemirror_mode": {
    "name": "ipython",
    "version": 3
   },
   "file_extension": ".py",
   "mimetype": "text/x-python",
   "name": "python",
   "nbconvert_exporter": "python",
   "pygments_lexer": "ipython3",
   "version": "3.10.16"
  }
 },
 "nbformat": 4,
 "nbformat_minor": 5
}
