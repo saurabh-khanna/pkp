{
 "cells": [
  {
   "cell_type": "code",
   "execution_count": null,
   "id": "fd6da285-37f4-47d0-a7e3-117932c99f32",
   "metadata": {},
   "outputs": [],
   "source": [
    "from scholarly import scholarly\n",
    "from ratelimit import limits, sleep_and_retry\n",
    "from random import randint\n",
    "from time import sleep\n",
    "import time\n",
    "\n",
    "from tqdm import tqdm\n",
    "\n",
    "tqdm.pandas()\n",
    "\n",
    "import pandas as pd\n",
    "import xmltodict\n",
    "from tqdm.notebook import tqdm, trange"
   ]
  },
  {
   "cell_type": "markdown",
   "id": "b0cd96df-8b2c-4eb0-ab9b-9566da56325d",
   "metadata": {},
   "source": [
    "### Read in URLs"
   ]
  },
  {
   "cell_type": "code",
   "execution_count": null,
   "id": "3d01e159-451e-421f-8ce7-b7528ad5e0e9",
   "metadata": {},
   "outputs": [],
   "source": [
    "# loading 25494 unique OJS journal URLs\n",
    "df = pd.read_csv(\"../data/gscholar_urls.csv\")\n",
    "df"
   ]
  },
  {
   "cell_type": "code",
   "execution_count": null,
   "id": "36c6787d-6a43-456d-9404-0b83b0e4edae",
   "metadata": {},
   "outputs": [],
   "source": [
    "# sample for testing\n",
    "# df = df.sample(10)\n",
    "# df"
   ]
  },
  {
   "cell_type": "markdown",
   "id": "41544254-b9be-462c-9287-ff6e3ccfdcd1",
   "metadata": {},
   "source": [
    "### Search GScholar"
   ]
  },
  {
   "cell_type": "code",
   "execution_count": null,
   "id": "517eae88-239e-4a46-a07f-c7f57f29a7c5",
   "metadata": {},
   "outputs": [],
   "source": [
    "# test single query\n",
    "scholarly.search_pubs(\n",
    "    \"site:periodicos.unipampa.edu.br/index.php/siepe\"\n",
    ")._get_total_results()"
   ]
  },
  {
   "cell_type": "code",
   "execution_count": null,
   "id": "0e120512-c3b6-48e9-8303-ddd808610887",
   "metadata": {},
   "outputs": [],
   "source": [
    "# function to query gscholar max 60 times per hour with random sleep intervals\n",
    "\n",
    "@sleep_and_retry\n",
    "@limits(calls=60, period=3600)\n",
    "def is_journal_present(url):\n",
    "    try:\n",
    "        sleep(randint(10, 50))\n",
    "        return scholarly.search_pubs(\"site:\" + url)._get_total_results()\n",
    "    except Exception as e:\n",
    "        print(repr(e))\n",
    "        return repr(e)"
   ]
  },
  {
   "cell_type": "code",
   "execution_count": null,
   "id": "3a7eaf0b-7965-4241-b22b-a4e778586afa",
   "metadata": {},
   "outputs": [],
   "source": [
    "df[\"n_articles\"] = df.progress_apply(lambda row: is_journal_present(row[\"url\"]), axis=1)"
   ]
  },
  {
   "cell_type": "code",
   "execution_count": null,
   "id": "3279f209-f49f-456e-a799-3b6c91fd65b6",
   "metadata": {},
   "outputs": [],
   "source": [
    "df"
   ]
  },
  {
   "cell_type": "code",
   "execution_count": null,
   "id": "70d38c6b-1fa7-4132-858f-e25ab2f6df0f",
   "metadata": {},
   "outputs": [],
   "source": [
    "# total OJS articles on gscholar\n",
    "df[\"n_articles\"].sum()"
   ]
  },
  {
   "cell_type": "code",
   "execution_count": null,
   "id": "0957aad6-85e2-4710-9a98-23440f47f945",
   "metadata": {},
   "outputs": [],
   "source": [
    "# output to csv\n",
    "df.to_csv(\"gscholar_urls_mapped.csv\", encoding=\"utf-8\", index=False)"
   ]
  },
  {
   "cell_type": "code",
   "execution_count": null,
   "id": "9b14a424-db8c-4cd2-beba-0224c8d42f57",
   "metadata": {},
   "outputs": [],
   "source": []
  }
 ],
 "metadata": {
  "kernelspec": {
   "display_name": "Python 3 (ipykernel)",
   "language": "python",
   "name": "python3"
  },
  "language_info": {
   "codemirror_mode": {
    "name": "ipython",
    "version": 3
   },
   "file_extension": ".py",
   "mimetype": "text/x-python",
   "name": "python",
   "nbconvert_exporter": "python",
   "pygments_lexer": "ipython3",
   "version": "3.9.12"
  }
 },
 "nbformat": 4,
 "nbformat_minor": 5
}
