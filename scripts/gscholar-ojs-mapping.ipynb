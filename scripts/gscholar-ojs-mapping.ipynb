{
 "cells": [
  {
   "cell_type": "code",
   "execution_count": null,
   "id": "fd6da285-37f4-47d0-a7e3-117932c99f32",
   "metadata": {},
   "outputs": [],
   "source": [
    "from IPython.display import JSON\n",
    "from ratelimit import limits, sleep_and_retry\n",
    "import json\n",
    "import time\n",
    "import ast\n",
    "from tqdm import tqdm\n",
    "\n",
    "tqdm.pandas()\n",
    "\n",
    "import pandas as pd\n",
    "import xmltodict\n",
    "from tqdm.notebook import tqdm, trange\n",
    "\n",
    "from serpapi import GoogleSearch\n",
    "\n",
    "import sys, os\n",
    "\n",
    "# Disable\n",
    "def blockPrint():\n",
    "    sys.stdout = open(os.devnull, \"w\")\n",
    "\n",
    "\n",
    "# Restore\n",
    "def enablePrint():\n",
    "    sys.stdout = sys.__stdout__"
   ]
  },
  {
   "cell_type": "markdown",
   "id": "b0cd96df-8b2c-4eb0-ab9b-9566da56325d",
   "metadata": {},
   "source": [
    "### Read in URLs"
   ]
  },
  {
   "cell_type": "code",
   "execution_count": null,
   "id": "3d01e159-451e-421f-8ce7-b7528ad5e0e9",
   "metadata": {},
   "outputs": [],
   "source": [
    "# loading 25494 unique OJS journal URLs\n",
    "# df = pd.read_csv(\"../data/gscholar_urls.csv\")\n",
    "df = pd.read_csv(\"../data/scholar_tocheck_domains.csv\")\n",
    "len(df)"
   ]
  },
  {
   "cell_type": "code",
   "execution_count": null,
   "id": "36c6787d-6a43-456d-9404-0b83b0e4edae",
   "metadata": {},
   "outputs": [],
   "source": [
    "# sample for testing\n",
    "# df = df.sample(2)\n",
    "df.rename(columns={'domain': 'url'}, inplace=True)\n",
    "df"
   ]
  },
  {
   "cell_type": "markdown",
   "id": "41544254-b9be-462c-9287-ff6e3ccfdcd1",
   "metadata": {},
   "source": [
    "### Search GScholar"
   ]
  },
  {
   "cell_type": "code",
   "execution_count": null,
   "id": "0e120512-c3b6-48e9-8303-ddd808610887",
   "metadata": {},
   "outputs": [],
   "source": [
    "# function to query gscholar max 15000 times per hour (our serpapi limit is 20000)\n",
    "\n",
    "blockPrint()\n",
    "\n",
    "\n",
    "@sleep_and_retry\n",
    "@limits(calls=15000, period=3600)\n",
    "def query_journal_url(url):\n",
    "    try:\n",
    "        query_string = \"site:\" + url\n",
    "        params = {\n",
    "            \"engine\": \"google_scholar\",\n",
    "            \"q\": query_string,\n",
    "            \"api_key\": \"dbf73152443f7b9c57c405609fa9be00baaf8b325d648a796b252f01c500aa1e\",\n",
    "        }\n",
    "        search = GoogleSearch(params)\n",
    "        results = search.get_dict()\n",
    "        # organic_results = results['organic_results']\n",
    "        return results\n",
    "        # return GoogleSearch(params).get_dict()\n",
    "    except Exception as e:\n",
    "        # print(repr(e))\n",
    "        return repr(e)\n",
    "\n",
    "\n",
    "def get_total_results(result_json):\n",
    "    try:\n",
    "        return result_json[\"search_information\"][\"total_results\"]\n",
    "    except:\n",
    "        return result_json[\"search_information\"][\"organic_results_state\"]"
   ]
  },
  {
   "cell_type": "code",
   "execution_count": null,
   "id": "3a7eaf0b-7965-4241-b22b-a4e778586afa",
   "metadata": {},
   "outputs": [],
   "source": [
    "## $$$ COSTS MONEY $$$ ##\n",
    "df[\"result_json\"] = df.progress_apply(lambda row: query_journal_url(row[\"url\"]), axis=1)"
   ]
  },
  {
   "cell_type": "code",
   "execution_count": null,
   "id": "edfd5fb6-621d-4b70-8948-ab43ff4515f9",
   "metadata": {},
   "outputs": [],
   "source": [
    "# output to csv\n",
    "# df.to_csv(\"gscholar_urls_mapped.csv\", encoding=\"utf-8\", index=False)"
   ]
  },
  {
   "cell_type": "code",
   "execution_count": null,
   "id": "14fe9cd1-9b7c-4b2d-bcfb-f2e6958c8450",
   "metadata": {},
   "outputs": [],
   "source": []
  },
  {
   "cell_type": "code",
   "execution_count": null,
   "id": "3279f209-f49f-456e-a799-3b6c91fd65b6",
   "metadata": {},
   "outputs": [],
   "source": [
    "df[\"n_results\"] = df.progress_apply(\n",
    "    lambda row: get_total_results(row[\"result_json\"]), axis=1\n",
    ")"
   ]
  },
  {
   "cell_type": "code",
   "execution_count": null,
   "id": "5e067d6f-2ad2-4059-9d86-ffb947293273",
   "metadata": {},
   "outputs": [],
   "source": [
    "df.head()"
   ]
  },
  {
   "cell_type": "code",
   "execution_count": null,
   "id": "70d38c6b-1fa7-4132-858f-e25ab2f6df0f",
   "metadata": {},
   "outputs": [],
   "source": [
    "# total OJS articles on gscholar\n",
    "df[\"n_results\"].value_counts()"
   ]
  },
  {
   "cell_type": "code",
   "execution_count": null,
   "id": "4d795f91-6877-409e-9dc7-dfc8921a1184",
   "metadata": {},
   "outputs": [],
   "source": [
    "df[df[\"n_results\"] != \"Fully empty\"][\"n_results\"].sum()"
   ]
  },
  {
   "cell_type": "code",
   "execution_count": null,
   "id": "eac5b633-d815-443a-9657-1f11f38ffecf",
   "metadata": {},
   "outputs": [],
   "source": [
    "JSON(df[\"result_json\"].iloc[0])"
   ]
  },
  {
   "cell_type": "code",
   "execution_count": null,
   "id": "b6f70578-3bfa-48b0-8cfb-29b40e50bc98",
   "metadata": {},
   "outputs": [],
   "source": []
  },
  {
   "cell_type": "code",
   "execution_count": null,
   "id": "0957aad6-85e2-4710-9a98-23440f47f945",
   "metadata": {},
   "outputs": [],
   "source": [
    "# output to csv\n",
    "# df.to_csv(\"gscholar_domains_mapped.csv\", encoding=\"utf-8\", index=False)"
   ]
  },
  {
   "cell_type": "code",
   "execution_count": null,
   "id": "9b14a424-db8c-4cd2-beba-0224c8d42f57",
   "metadata": {},
   "outputs": [],
   "source": [
    "df"
   ]
  },
  {
   "cell_type": "markdown",
   "id": "744bfba3-252e-418a-a7f5-ddd1d51b9d7f",
   "metadata": {},
   "source": [
    "### Read back data for stats"
   ]
  },
  {
   "cell_type": "code",
   "execution_count": null,
   "id": "f5a01e96-d6bb-45f1-850b-66640aa8cde6",
   "metadata": {},
   "outputs": [],
   "source": [
    "df = pd.read_csv(\"gscholar_domains_mapped.csv\")\n",
    "df = df[df[\"n_results\"] != \"Fully empty\"].reset_index(drop=True)\n",
    "df"
   ]
  },
  {
   "cell_type": "code",
   "execution_count": null,
   "id": "3ed2990d-8711-41a2-bd8f-4aa525aa089d",
   "metadata": {},
   "outputs": [],
   "source": [
    "JSON(ast.literal_eval(df[\"result_json\"].iloc[232]))"
   ]
  },
  {
   "cell_type": "code",
   "execution_count": null,
   "id": "660e86f5-700d-465b-8df8-ddbb0668b796",
   "metadata": {},
   "outputs": [],
   "source": [
    "def get_single_citation(x):\n",
    "    try:\n",
    "        return x[\"inline_links\"][\"cited_by\"][\"total\"]\n",
    "    except:\n",
    "        return 0\n",
    "\n",
    "\n",
    "def get_total_citations(result_json):\n",
    "\n",
    "    result_json = ast.literal_eval(result_json)\n",
    "    counter = 0\n",
    "\n",
    "    for i in range(len(result_json[\"organic_results\"])):\n",
    "        counter += get_single_citation(result_json[\"organic_results\"][i])\n",
    "\n",
    "    return counter\n",
    "\n",
    "def get_max_citation_by_article(result_json):\n",
    "    result_json = ast.literal_eval(result_json)\n",
    "    max_cite = 0\n",
    "\n",
    "    for i in range(len(result_json[\"organic_results\"])):\n",
    "        current_cite = get_single_citation(result_json[\"organic_results\"][i])\n",
    "        if current_cite > max_cite:\n",
    "            max_cite = current_cite\n",
    "\n",
    "    return max_cite"
   ]
  },
  {
   "cell_type": "code",
   "execution_count": null,
   "id": "e3db3a08-60c5-47fa-9272-24085bd544c3",
   "metadata": {},
   "outputs": [],
   "source": [
    "get_total_citations(df[\"result_json\"].iloc[1])"
   ]
  },
  {
   "cell_type": "code",
   "execution_count": null,
   "id": "f353e16b-b267-4527-858f-cc857e757b67",
   "metadata": {},
   "outputs": [],
   "source": [
    "get_single_citation(ast.literal_eval(df[\"result_json\"].iloc[1])[\"organic_results\"][0])"
   ]
  },
  {
   "cell_type": "code",
   "execution_count": null,
   "id": "40a7daac-5f55-4a0e-861f-305f7ac62184",
   "metadata": {},
   "outputs": [],
   "source": [
    "df[\"n_citations\"] = df.progress_apply(\n",
    "    lambda row: get_total_citations(row[\"result_json\"]), axis=1\n",
    ")\n",
    "df"
   ]
  },
  {
   "cell_type": "code",
   "execution_count": null,
   "id": "4a490749-d32b-4f12-a3c5-d0a77901f08f",
   "metadata": {},
   "outputs": [],
   "source": [
    "df[\"max_cite_per_article\"] = df.progress_apply(\n",
    "    lambda row: get_max_citation_by_article(row[\"result_json\"]), axis=1\n",
    ")\n",
    "df"
   ]
  },
  {
   "cell_type": "code",
   "execution_count": null,
   "id": "7785874f-f3e4-459d-81d2-709afc8c7c83",
   "metadata": {},
   "outputs": [],
   "source": [
    "df[\"n_citations\"].describe()"
   ]
  },
  {
   "cell_type": "code",
   "execution_count": null,
   "id": "f7168d77-cedf-493f-ae4f-42c5fc478771",
   "metadata": {},
   "outputs": [],
   "source": [
    "df[\"max_cite_per_article\"].describe()"
   ]
  },
  {
   "cell_type": "code",
   "execution_count": null,
   "id": "de7b4b80-a7ac-448a-a5a1-14de841fbe91",
   "metadata": {},
   "outputs": [],
   "source": [
    "df[df[\"max_cite_per_article\"] == 15220]"
   ]
  },
  {
   "cell_type": "code",
   "execution_count": null,
   "id": "10654f08-42bc-4bd6-a4d4-37407e02354f",
   "metadata": {},
   "outputs": [],
   "source": [
    "# df[[\"url\", \"n_citations\", \"max_cite_per_article\"]].to_csv(\"gscholar_citations.csv\", encoding=\"utf-8\", index=False)"
   ]
  },
  {
   "cell_type": "code",
   "execution_count": null,
   "id": "c9a8c60c-494f-4be3-9d3d-ba42c7fe13bf",
   "metadata": {},
   "outputs": [],
   "source": [
    "df.rename(columns={'url': 'domain'}, inplace=True)"
   ]
  },
  {
   "cell_type": "code",
   "execution_count": null,
   "id": "7d7f99b8-ee35-4123-a555-2044c81dbcdc",
   "metadata": {},
   "outputs": [],
   "source": [
    "df[['domain', 'n_citations']].to_csv(\"../data/scholar_present_domains_set2.csv\", encoding=\"utf-8\", index=False)"
   ]
  },
  {
   "cell_type": "code",
   "execution_count": null,
   "id": "dc21f813-e86f-4eac-ab71-35d04467b696",
   "metadata": {},
   "outputs": [],
   "source": []
  }
 ],
 "metadata": {
  "kernelspec": {
   "display_name": "Python 3 (ipykernel)",
   "language": "python",
   "name": "python3"
  },
  "language_info": {
   "codemirror_mode": {
    "name": "ipython",
    "version": 3
   },
   "file_extension": ".py",
   "mimetype": "text/x-python",
   "name": "python",
   "nbconvert_exporter": "python",
   "pygments_lexer": "ipython3",
   "version": "3.9.13"
  }
 },
 "nbformat": 4,
 "nbformat_minor": 5
}
