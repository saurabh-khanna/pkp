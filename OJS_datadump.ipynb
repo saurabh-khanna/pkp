{
 "cells": [
  {
   "cell_type": "code",
   "execution_count": null,
   "id": "540d7a11",
   "metadata": {},
   "outputs": [],
   "source": [
    "from collections import defaultdict\n",
    "from lxml import html\n",
    "import pandas as pd\n",
    "import re"
   ]
  },
  {
   "cell_type": "code",
   "execution_count": null,
   "id": "3b6fb32d",
   "metadata": {},
   "outputs": [],
   "source": [
    "beacon = pd.read_csv(\"data/jonas/beacon-public.csv\")"
   ]
  },
  {
   "cell_type": "code",
   "execution_count": null,
   "id": "8517f922",
   "metadata": {},
   "outputs": [],
   "source": [
    "beacon = beacon[beacon[\"record_count_2020\"] >= 5].reset_index(drop=True)  # active"
   ]
  },
  {
   "cell_type": "code",
   "execution_count": null,
   "id": "9c0616bd",
   "metadata": {},
   "outputs": [],
   "source": [
    "beacon = beacon[[\"oai_url\", \"set_spec\", \"context_name\", \"issn\", \"country_consolidated\"]]"
   ]
  },
  {
   "cell_type": "code",
   "execution_count": null,
   "id": "0d1a14cf",
   "metadata": {},
   "outputs": [],
   "source": [
    "beacon[\"issn_1\"] = beacon[\"issn\"].str.split(r\"\\n\").str.get(0)\n",
    "beacon[\"issn_2\"] = beacon[\"issn\"].str.split(r\"\\n\").str.get(1)"
   ]
  },
  {
   "cell_type": "code",
   "execution_count": null,
   "id": "8df25c59",
   "metadata": {},
   "outputs": [],
   "source": [
    "beacon[\"oai_url\"] = (\n",
    "    beacon[\"oai_url\"]\n",
    "    .str.split(r\"\\s|\\?\")\n",
    "    .str.get(0)\n",
    "    .str.replace(\"[\\./]+$\", \"\", regex=True)\n",
    ")"
   ]
  },
  {
   "cell_type": "code",
   "execution_count": null,
   "id": "e4d958eb",
   "metadata": {},
   "outputs": [],
   "source": [
    "pattern = re.compile(\"index/oai$|oai$\")\n",
    "\n",
    "\n",
    "def create_url(row):\n",
    "    return pattern.sub(\"\", row[\"oai_url\"]) + row[\"set_spec\"]\n",
    "\n",
    "\n",
    "beacon[\"journal_url\"] = beacon.apply(create_url, axis=1)"
   ]
  },
  {
   "cell_type": "code",
   "execution_count": null,
   "id": "be9198f4",
   "metadata": {},
   "outputs": [],
   "source": [
    "issn_set = set(str(issn) for issn in beacon[\"issn_1\"].tolist())\n",
    "issn_set.add(str(issn) for issn in beacon[\"issn_2\"].tolist())"
   ]
  },
  {
   "cell_type": "code",
   "execution_count": null,
   "id": "de68d299",
   "metadata": {},
   "outputs": [],
   "source": [
    "len(issn_set)"
   ]
  },
  {
   "cell_type": "code",
   "execution_count": null,
   "id": "4550da5b",
   "metadata": {},
   "outputs": [],
   "source": [
    "for issn in issn_set:\n",
    "    if not isinstance(issn, str):\n",
    "        print(issn)\n",
    "        issn_set.remove(issn)\n",
    "        break"
   ]
  },
  {
   "cell_type": "code",
   "execution_count": null,
   "id": "23317762",
   "metadata": {},
   "outputs": [],
   "source": [
    "len(issn_set)"
   ]
  },
  {
   "cell_type": "code",
   "execution_count": null,
   "id": "cd5e4295",
   "metadata": {},
   "outputs": [],
   "source": [
    "metadata_pattern = \"<metadata>.+</metadata>\""
   ]
  },
  {
   "cell_type": "code",
   "execution_count": null,
   "id": "6ed3c65e",
   "metadata": {},
   "outputs": [],
   "source": [
    "metaData = defaultdict(lambda: defaultdict(list))\n",
    "record_count = defaultdict(int)\n",
    "\n",
    "for issn in issn_set:\n",
    "    record_count[issn] = 0"
   ]
  },
  {
   "cell_type": "code",
   "execution_count": null,
   "id": "41f73ac5",
   "metadata": {},
   "outputs": [],
   "source": [
    "len(record_count)"
   ]
  },
  {
   "cell_type": "code",
   "execution_count": null,
   "id": "20e61d66",
   "metadata": {},
   "outputs": [],
   "source": [
    "with open(\"pkpbeacon.txt\", \"r\") as f:\n",
    "    for line in f:\n",
    "        content = re.search(metadata_pattern, line, re.MULTILINE | re.DOTALL)\n",
    "        if content:\n",
    "            break"
   ]
  },
  {
   "cell_type": "code",
   "execution_count": null,
   "id": "9742180b",
   "metadata": {},
   "outputs": [],
   "source": [
    "content.group(0)"
   ]
  },
  {
   "cell_type": "code",
   "execution_count": null,
   "id": "3a0fb68f",
   "metadata": {},
   "outputs": [],
   "source": [
    "import lxml.etree as etree\n",
    "from io import StringIO"
   ]
  },
  {
   "cell_type": "code",
   "execution_count": null,
   "id": "fda4e1c6",
   "metadata": {},
   "outputs": [],
   "source": [
    "# test string\n",
    "metastr = \"<metadata>\\\\n<oai_dc:dc xmlns:oai_dc=\\\\'http://www.openarchives.org/OAI/2.0/oai_dc/\\\\' xmlns:dc=\\\\'http://purl.org/dc/elements/1.1/\\\\' xmlns:xsi=\\\\'http://www.w3.org/2001/XMLSchema-instance\\\\' xsi:schemaLocation=\\\\'http://www.openarchives.org/OAI/2.0/oai_dc/ http://www.openarchives.org/OAI/2.0/oai_dc.xsd\\\\'>\\\\n<dc:title xml:lang=\\\\'id-ID\\\\'>PEMBUKTIAN PERJANJIAN PIUTANG YANG TIDAK TERTULIS DALAM PERKARA KEPAILITAN DI PENGADILAN</dc:title>\\\\n<dc:creator>SUSILO, ANTONY FERNANDO</dc:creator>\\\\n<dc:subject xml:lang=\\\\'id-ID\\\\'/>\\\\n<dc:subject xml:lang=\\\\'id-ID\\\\'>Kepailitan; Debitur; Kreditur; Pengadilan Niaga</dc:subject>\\\\n<dc:description xml:lang=\\\\'id-ID\\\\'>Penulisan ini bertujuan untuk mengetahui bagaimana pembuktian perjanjian hutang tidak tertulis dalam perkara pailit di pengadilan dengan melakukan analisis yuridis berdasarkan perkara pailit perorangan Leo Wijaya Kusuma. Kasus pailit perorangan ini terjadi antara anggota keluarga,dimana debitur dan kreditor membuat perjanjian hutang tidak tertulis, dan pada waktu yang ditentukan debitur tidak melunasi pinjaman dengan baik, sehingga kreditor mengajukan permohonan pailit ke Pengadilan Niaga untuk menyelesaikan masalah tersebut. Penulisan ini dikaji dengan pendekatan studi yuridis normatif berdasarkan literatur-literatur dan data kepustakaan. Berdasarkan hasil penelitian ditemukan bahwa debitur akan dikenakan sanksi karena lalai membayar hutang dan Pengadilan Niaga juga mengabulkan permohonan pailit dengan mengirimkan somasi terhadap debitur.</dc:description>\\\\n<dc:publisher xml:lang=\\\\'en-US\\\\'>PMIH Untag Semarang</dc:publisher>\\\\n<dc:contributor xml:lang=\\\\'id-ID\\\\'/>\\\\n<dc:date>2009-07-10</dc:date>\\\\n<dc:type>info:eu-repo/semantics/article</dc:type>\\\\n<dc:type>info:eu-repo/semantics/publishedVersion</dc:type>\\\\n<dc:type xml:lang=\\\\'id-ID\\\\'/>\\\\n<dc:type xml:lang=\\\\'id-ID\\\\'/>\\\\n<dc:format>application/pdf</dc:format>\\\\n<dc:identifier>http://jurnal.untagsmg.ac.id/index.php/malrev/article/view/2080</dc:identifier>\\\\n<dc:identifier>10.35973/malrev.v2i1.2080</dc:identifier>\\\\n<dc:source xml:lang=\\\\'en-US\\\\'>MAGISTRA Law Review; Vol 2, No 01 (2021): MAGISTRA Law Review; 78-92</dc:source>\\\\n<dc:source xml:lang=\\\\'id-ID\\\\'>MAGISTRA Law Review; Vol 2, No 01 (2021): MAGISTRA Law Review; 78-92</dc:source>\\\\n<dc:source>2715-2502</dc:source>\\\\n<dc:source>10.35973/malrev.v2i1</dc:source>\\\\n<dc:language>ind</dc:language>\\\\n<dc:relation>http://jurnal.untagsmg.ac.id/index.php/malrev/article/view/2080/1423</dc:relation>\\\\n<dc:rights xml:lang=\\\\'en-US\\\\'>Copyright (c) 2021 MAGISTRA Law Review</dc:rights>\\\\n<dc:rights xml:lang=\\\\'en-US\\\\'>http://creativecommons.org/licenses/by/4.0</dc:rights>\\\\n</oai_dc:dc>\\\\n</metadata>\""
   ]
  },
  {
   "cell_type": "code",
   "execution_count": null,
   "id": "a391c64a",
   "metadata": {},
   "outputs": [],
   "source": [
    "tree = etree.XML(metastr)"
   ]
  },
  {
   "cell_type": "code",
   "execution_count": null,
   "id": "4cb2f54a",
   "metadata": {},
   "outputs": [],
   "source": [
    "parser = etree.XMLParser()\n",
    "tree = etree.XMP(StringIO(metastr), parser)\n",
    "result = etree.tostring(tree.getroot(), pretty_print=True, method=\"html\")"
   ]
  },
  {
   "cell_type": "code",
   "execution_count": null,
   "id": "dc787e32",
   "metadata": {},
   "outputs": [],
   "source": [
    "print(result)  # test"
   ]
  },
  {
   "cell_type": "code",
   "execution_count": null,
   "id": "52ec7db1",
   "metadata": {
    "scrolled": true
   },
   "outputs": [],
   "source": [
    "# Full processing\n",
    "\n",
    "with open(\"Data/pkpbeacon.txt\", \"r\") as f:\n",
    "    count = 0\n",
    "    for line in f:\n",
    "\n",
    "        content = re.search(metadata_pattern, line, re.MULTILINE | re.DOTALL)\n",
    "        if content:\n",
    "\n",
    "            tree = html.fromstring(content.group(0))\n",
    "            for article in tree.xpath(\"//metadata\"):\n",
    "\n",
    "                count += 1\n",
    "                print(article)\n",
    "                break\n",
    "\n",
    "                for source in article.xpath(\".//source\"):\n",
    "                    if source.text in issn_set:\n",
    "                        if record_count[source.text] < 100:\n",
    "                            record_count[source.text] += 1\n",
    "\n",
    "                            authors = []\n",
    "                            for creator in article.xpath(\".//creator\"):\n",
    "                                if creator is not None:\n",
    "                                    authors.append(creator.text)\n",
    "                            if authors:\n",
    "                                metaData[source.text][\"creator\"].append(authors)\n",
    "\n",
    "                            for title in article.xpath(\".//title\"):\n",
    "                                if title is not None:\n",
    "                                    metaData[source.text][\"title\"].append(title.text)\n",
    "\n",
    "                            for description in article.xpath(\".//description\"):\n",
    "                                if description is not None:\n",
    "                                    metaData[source.text][\"description\"].append(\n",
    "                                        description.text\n",
    "                                    )\n",
    "\n",
    "                            for subject in article.xpath(\".//subject\"):\n",
    "                                if subject is not None:\n",
    "                                    metaData[source.text][\"subject\"].append(\n",
    "                                        subject.text\n",
    "                                    )\n",
    "\n",
    "                            for language in article.xpath(\".//language\"):\n",
    "                                if language is not None:\n",
    "                                    metaData[source.text][\"language\"].append(\n",
    "                                        language.text\n",
    "                                    )\n",
    "\n",
    "            while tree.getprevious() is not None:\n",
    "                del tree.getparent()[0]\n",
    "        del content"
   ]
  },
  {
   "cell_type": "code",
   "execution_count": null,
   "id": "8427f136",
   "metadata": {},
   "outputs": [],
   "source": [
    "len(metaData)"
   ]
  },
  {
   "cell_type": "code",
   "execution_count": null,
   "id": "d2c88a1f",
   "metadata": {},
   "outputs": [],
   "source": [
    "# import json\n",
    "# with open('Data/beacon_metadata.json', 'w') as f:\n",
    "# json.dump(metaData, f)"
   ]
  },
  {
   "cell_type": "code",
   "execution_count": null,
   "id": "2ad859c1",
   "metadata": {},
   "outputs": [],
   "source": [
    "# metaDF = pd.DataFrame.from_dict(metaData, orient='index')"
   ]
  },
  {
   "cell_type": "code",
   "execution_count": null,
   "id": "520b6ef9",
   "metadata": {},
   "outputs": [],
   "source": [
    "# metaDF.head()"
   ]
  }
 ],
 "metadata": {
  "kernelspec": {
   "display_name": "Python 3 (ipykernel)",
   "language": "python",
   "name": "python3"
  },
  "language_info": {
   "codemirror_mode": {
    "name": "ipython",
    "version": 3
   },
   "file_extension": ".py",
   "mimetype": "text/x-python",
   "name": "python",
   "nbconvert_exporter": "python",
   "pygments_lexer": "ipython3",
   "version": "3.9.10"
  }
 },
 "nbformat": 4,
 "nbformat_minor": 5
}
